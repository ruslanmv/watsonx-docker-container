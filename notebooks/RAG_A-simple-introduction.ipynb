{
 "cells": [
  {
   "cell_type": "markdown",
   "metadata": {
    "collapsed": true,
    "id": "d9aacb5f-7eea-4472-a811-2130d5579f27",
    "jupyter": {
     "outputs_hidden": true
    }
   },
   "source": [
    "# RAG: A simple introduction"
   ]
  },
  {
   "cell_type": "markdown",
   "metadata": {
    "id": "67eaff0f-9a2c-44ad-9e20-5b1eb6427a88"
   },
   "source": [
    "## Notebook content\n",
    "\n",
    "This notebook contains the steps and code to demonstrate the retrieval-augmented generation pattern in IBM watsonx.ai on IBM Cloud. If you are using IBM watsonx.ai on-premises, then see the [other versions of this notebook](#cpd-only).\n",
    "\n",
    "Some familiarity with Python is helpful. This notebook uses Python 3.10.\n",
    "\n",
    "\n",
    "## Learning goal\n",
    "\n",
    "The goal of this notebook is to demonstrate how to apply the retrieval-augmented generation pattern to a question-answering use case in watsonx.ai.\n",
    "\n",
    "\n",
    "## Scenario\n",
    "The website for an online seed catalog has many articles to help customers plan their garden and ultimately select which seeds to purchase. A new widget is being added to the website to answer customer questions based on the contents of the articles.\n",
    "\n",
    "\n",
    "## Contents\n",
    "\n",
    "This notebook contains the following parts:\n",
    "\n",
    "- [Overview of retrieval-augmented generation](#overview)\n",
    "- [Step 1: Set up prerequisites](#setup)\n",
    "- [Step 2: Create a knowledge base](#knowledgebase)\n",
    "- [Step 3: Build a simple search component](#search)\n",
    "- [Step 4: Craft prompt text](#prompt)\n",
    "- [Step 5: Generate output using the foundation models Python library](#generate)\n",
    "- [Step 6: Pull everything together to perform retrieval-augmented generation](#rag)\n",
    "- [Summary](#summary)"
   ]
  },
  {
   "cell_type": "markdown",
   "metadata": {
    "id": "a925401b-1e8c-4401-941a-c7a48f67f5f5"
   },
   "source": [
    "<a id=\"overview\"></a>\n",
    "## Overview of retrieval-augmented generation\n",
    "\n",
    "The retrieval-augmented generation pattern involves three basic steps:\n",
    "1. Search for relevant content in your knowledge base\n",
    "2. Pull the most relevant content into your prompt as context\n",
    "3. Send the combined prompt text to a foundation model to generate output\n",
    "\n",
    "The term _retrieval-augmented generation_ (RAG) was introduced in this paper: <a href=\"https://arxiv.org/abs/2005.11401\" target=\"_blank\" rel=\"noopener no referrer\">Retrieval-augmented generation for knowledge-intensive NLP tasks</a>\n",
    "\n",
    "> \"We build RAG models where the parametric memory is a pre-trained seq2seq transformer, and the\n",
    "non-parametric memory is a dense vector index of Wikipedia, accessed with a pre-trained neural\n",
    "retriever.\"\n",
    "\n",
    "In that paper, the term \"RAG models\" refers to a specific implementation of a _retriever_ (a specific query encoder and vector-based document search index) and a _generator_ (a specific pre-trained, generative language model.) \n",
    "\n",
    "However, the basic search-and-generate approach can be generalized to use different retriever components and foundation models.\n",
    "\n",
    "In this notebook:\n",
    "- The **knowledge base** is a list of two articles\n",
    "- The **retrieval component** consists of a simple search function\n",
    "- The **generate** component uses the foundation model Python library in watsonx.ai\n"
   ]
  },
  {
   "cell_type": "markdown",
   "metadata": {},
   "source": [
    "<a id=\"setup\"></a>\n",
    "# Step 1: Set up prerequisites\n",
    "\n",
    "Before you use the sample code in this notebook, you must perform setup tasks.\n",
    "\n",
    "## 1.1 Associate an instance of the Watson Machine Learning service with the current project\n",
    "\n",
    "The _current project_ is the project in which you are running this notebook.\n",
    "\n",
    "If an instance of Watson Machine Learning is not already associated with the current project, follow the instructions in this topic to do so: [Adding associated services to a project](https://dataplatform.cloud.ibm.com/docs/content/wsj/getting-started/assoc-services.html?context=wx&audience=wdp)\n",
    "\n",
    "\n",
    "## 1.2 Create an IBM Cloud API key\n",
    "\n",
    "Create an IBM Cloud API key by following these instructions: [Creating an IBM Cloud API key](https://cloud.ibm.com/docs/account?topic=account-userapikey&interface=ui#create_user_key)\n",
    "\n",
    "Then paste your new IBM Cloud API key in the code cell below."
   ]
  },
  {
   "cell_type": "code",
   "execution_count": 14,
   "metadata": {},
   "outputs": [
    {
     "name": "stdin",
     "output_type": "stream",
     "text": [
      "Please enter your WML API key:  ········\n"
     ]
    }
   ],
   "source": [
    "import os\n",
    "import getpass\n",
    "from dotenv import load_dotenv\n",
    "\n",
    "# Load environment variables from .env file\n",
    "load_dotenv()\n",
    "\n",
    "# Try to get apikey from environment, or prompt user for input\n",
    "apikey = os.getenv(\"API_KEY\")  # Update to the correct variable name in your .env file\n",
    "\n",
    "if apikey is None:\n",
    "    apikey = getpass.getpass(\"Please enter your WML API key: \")  # Secure masked input\n",
    "\n",
    "# Define credentials dictionary\n",
    "credentials = {\n",
    "    \"url\": \"https://us-south.ml.cloud.ibm.com\",\n",
    "    \"apikey\": apikey\n",
    "}\n",
    "\n"
   ]
  },
  {
   "cell_type": "code",
   "execution_count": 15,
   "metadata": {},
   "outputs": [],
   "source": [
    "cloud_apikey = credentials['apikey']"
   ]
  },
  {
   "cell_type": "markdown",
   "metadata": {},
   "source": [
    "## 1.3 Define a credentials object with the IBM Cloud API key"
   ]
  },
  {
   "cell_type": "code",
   "execution_count": 25,
   "metadata": {},
   "outputs": [
    {
     "name": "stdin",
     "output_type": "stream",
     "text": [
      "Please enter your project_id (hit enter to skip):  67bbb357-f402-46e5-a784-8b5835462094\n"
     ]
    }
   ],
   "source": [
    "import os\n",
    "from dotenv import load_dotenv\n",
    "\n",
    "# Load environment variables from .env file\n",
    "load_dotenv()\n",
    "\n",
    "# Try to get project_id from environment\n",
    "project_id = os.getenv(\"PROJECT_ID\")\n",
    "\n",
    "# If not found, prompt user for input\n",
    "if project_id is None:\n",
    "    project_id = input(\"Please enter your project_id (hit enter to skip): \")\n",
    "\n"
   ]
  },
  {
   "cell_type": "markdown",
   "metadata": {
    "id": "87ca962a-16a5-4dfd-bc61-13117bf94396"
   },
   "source": [
    "<a id=\"knowledgebase\"></a>\n",
    "# Step 2: Create a knowledge base\n",
    "\n",
    "In this notebook, the knowledge base is a collection of two articles.  \n",
    "\n",
    "(These articles were written as samples for watsonx.ai, they are not real articles published anywhere else.  The authors and publication dates are fictional.)"
   ]
  },
  {
   "cell_type": "code",
   "execution_count": 26,
   "metadata": {
    "id": "2fcd2611-9822-41a5-bc8e-eb793e200f4a"
   },
   "outputs": [],
   "source": [
    "article_01 = \\\n",
    "\"Tomatoes are one of the most popular plants for vegetable gardens.  Tip for success: If you select \" \\\n",
    "\"varieties that are resistant to disease and pests, growing tomatoes can be quite easy.  For \"        \\\n",
    "\"experienced gardeners looking for a challenge, there are endless heirloom and specialty varieties \"  \\\n",
    "\"to cultivate.  Tomato plants come in a range of sizes.  There are varieties that stay very small, \"  \\\n",
    "\"less than 12 inches, and grow well in a pot or hanging basket on a balcony or patio.  Some grow \"    \\\n",
    "\"into bushes that are a few feet high and wide, and can be grown is larger containers.  Other \"       \\\n",
    "\"varieties grow into huge bushes that are several feet wide and high in a planter or garden bed.  \"   \\\n",
    "\"Still other varieties grow as long vines, six feet or more, and love to climb trellises.  Tomato \"   \\\n",
    "\"plants do best in full sun.  You need to water tomatoes deeply and often.  Using mulch prevents \"    \\\n",
    "\"soil-borne disease from splashing up onto the fruit when you water.  Pruning suckers and even \"      \\\n",
    "\"pinching the tips will encourage the plant to put all its energy into producing fruit.\""
   ]
  },
  {
   "cell_type": "code",
   "execution_count": 27,
   "metadata": {
    "id": "d8ce775a-d156-4908-b601-28a04780a680"
   },
   "outputs": [],
   "source": [
    "article_02 = \\\n",
    "\"Cucumbers are fun to grow for beginning gardeners and advanced gardeners alike.  There are two \"     \\\n",
    "\"types of cucumbers: slicing and pickling.  Pickling cucumbers are smaller than slicing cucumbers.  \" \\\n",
    "\"Cucumber plants come in two types: vining cucumbers, which are more common, and bush cucumbers.  \"   \\\n",
    "\"Vining cucumbers, which can grow to more than 5 feet tall, grow fast, yield lots of fruit, and you \" \\\n",
    "\"can train them up a trellis.  Growing cucumbers up a trellis or fence can maximize garden space, \"   \\\n",
    "\"keep fruit clean, and make it easier to harvest the fruit.  Tropical plants, cucumbers are very \"    \\\n",
    "\"sensitive to frost or cold weather. Cucumbers prefer full sun for 6 to 8 hours per day.  Cucumbers \" \\\n",
    "\"need constant watering.  Cucumbers can grow quickly and ripen in just 6 weeks.  Harvest cucumbers \"  \\\n",
    "\"every day or two because the more you harvest, the more the plant will produce.  If any cucumber \"   \\\n",
    "\"is left on the vine to fully mature, the plant will stop producing more cucumbers.  You can extend \" \\\n",
    "\"the harvest season by planting cucumbers in batches, 2 weeks apart.\""
   ]
  },
  {
   "cell_type": "code",
   "execution_count": 28,
   "metadata": {
    "id": "f087a775-5227-4319-ac22-22eb0bd382f9"
   },
   "outputs": [],
   "source": [
    "knowledge_base = [ \n",
    "    { \n",
    "        \"title\"     : \"Growing tomatoes\", \n",
    "        \"Author\"    : \"A. Rossi\",\n",
    "        \"Published\" : \"2010\",\n",
    "        \"txt\"       : article_01 \n",
    "    }, \n",
    "    {\n",
    "        \"title\"     : \"Cucumbers for beginners\",\n",
    "        \"Author\"    : \"B. Melnyk\",\n",
    "        \"Published\" : \"2018\",\n",
    "        \"txt\"       : article_02 \n",
    "    }\n",
    "]"
   ]
  },
  {
   "cell_type": "markdown",
   "metadata": {
    "id": "0f783fb2-b815-40d6-b9e3-0afa2c746560"
   },
   "source": [
    "<a id=\"search\"></a>\n",
    "# Step 3: Build a simple search component\n",
    "\n",
    "Many articles that discuss retrieval-augmented generation assume the retrieval component uses a vector database.  \n",
    "\n",
    "However, to perform the general retrieval-augmented generation pattern, any search-and-retrieve method that can reliably return relevant content from the knowledge base will do.\n",
    "\n",
    "In this notebook, the search component is a trivial search function that returns the index of one or the other of the two articles in the knowledge base, based on a simple regular expression match."
   ]
  },
  {
   "cell_type": "code",
   "execution_count": 29,
   "metadata": {
    "id": "a0a158bc-6e36-44dd-ac86-3499b40618cb"
   },
   "outputs": [],
   "source": [
    "import re\n",
    "\n",
    "def search( query_in, knowledge_base_in ):\n",
    "    if re.match( r\".*tomato.*\", query_in, re.IGNORECASE ):\n",
    "        return 0\n",
    "    elif re.match( r\".*cucumber.*\", query_in, re.IGNORECASE ):\n",
    "        return 1\n",
    "    return -1"
   ]
  },
  {
   "cell_type": "code",
   "execution_count": 30,
   "metadata": {
    "id": "e3374ea7-ed68-46b3-9da2-e1fc0a20bd4c"
   },
   "outputs": [
    {
     "name": "stdout",
     "output_type": "stream",
     "text": [
      "Index: 0\n",
      "Article: \"Growing tomatoes\"\n"
     ]
    }
   ],
   "source": [
    "index = search( \"How tall do tomatoes grow?\", knowledge_base )\n",
    "\n",
    "if index >= 0:\n",
    "    print( \"Index: \" + str( index ) + \"\\nArticle: \\\"\" + knowledge_base[index][\"title\"] + \"\\\"\" )\n",
    "else:\n",
    "    print( \"No matching content was found\" )"
   ]
  },
  {
   "cell_type": "markdown",
   "metadata": {
    "id": "75daf53e-1472-42dc-915f-35e91899747e"
   },
   "source": [
    "<a id=\"prompt\"></a>\n",
    "# Step 4: Craft prompt text\n",
    "\n",
    "In this notebook, the task to be performed is a question-answering task.\n",
    "\n",
    "There is no one, best prompt for any given task.  However, models that have been instruction-tuned, such as `bigscience/mt0-xxl-13b`, `google/flan-t5-xxl-11b`, or `google/flan-ul2-20b`, can generally perform this task with the sample prompt below.  Conservative decoding methods tend towards succinct answers.\n",
    "\n",
    "In the prompt below, notice two string placeholders (marked with `%s`) that will be replaced at generation time:\n",
    "- The first placeholder will be replaced with the text of the relevant article from the knowledge base\n",
    "- The second placeholder will be replaced with the question to be answered"
   ]
  },
  {
   "cell_type": "code",
   "execution_count": 31,
   "metadata": {
    "id": "06d295cc-9201-42ad-a6c3-7be92a3ebc05"
   },
   "outputs": [],
   "source": [
    "prompt_template = \"\"\"\n",
    "Article:\n",
    "###\n",
    "%s\n",
    "###\n",
    "\n",
    "Answer the following question using only information from the article. \n",
    "Answer in a complete sentence, with proper capitalization and punctuation. \n",
    "If there is no good answer in the article, say \"I don't know\".\n",
    "\n",
    "Question: %s\n",
    "Answer: \n",
    "\"\"\"\n",
    "\n",
    "def augment( template_in, context_in, query_in ):\n",
    "    return template_in % ( context_in,  query_in )\n"
   ]
  },
  {
   "cell_type": "code",
   "execution_count": 32,
   "metadata": {
    "id": "1dc38529-0d38-4aed-9752-a5be41081faa"
   },
   "outputs": [
    {
     "name": "stdout",
     "output_type": "stream",
     "text": [
      "\n",
      "Article:\n",
      "###\n",
      "Cucumbers are fun to grow for beginning gardeners and advanced gardeners alike.  There are two types of cucumbers: slicing and pickling.  Pickling cucumbers are smaller than slicing cucumbers.  Cucumber plants come in two types: vining cucumbers, which are more common, and bush cucumbers.  Vining cucumbers, which can grow to more than 5 feet tall, grow fast, yield lots of fruit, and you can train them up a trellis.  Growing cucumbers up a trellis or fence can maximize garden space, keep fruit clean, and make it easier to harvest the fruit.  Tropical plants, cucumbers are very sensitive to frost or cold weather. Cucumbers prefer full sun for 6 to 8 hours per day.  Cucumbers need constant watering.  Cucumbers can grow quickly and ripen in just 6 weeks.  Harvest cucumbers every day or two because the more you harvest, the more the plant will produce.  If any cucumber is left on the vine to fully mature, the plant will stop producing more cucumbers.  You can extend the harvest season by planting cucumbers in batches, 2 weeks apart.\n",
      "###\n",
      "\n",
      "Answer the following question using only information from the article. \n",
      "Answer in a complete sentence, with proper capitalization and punctuation. \n",
      "If there is no good answer in the article, say \"I don't know\".\n",
      "\n",
      "Question: How tall do cucumber plants grow?\n",
      "Answer: \n",
      "\n"
     ]
    }
   ],
   "source": [
    "query = \"How tall do cucumber plants grow?\"\n",
    "\n",
    "article_txt = knowledge_base[1][\"txt\"]\n",
    "\n",
    "augmented_prompt = augment( prompt_template, article_txt, query )\n",
    "\n",
    "print( augmented_prompt )"
   ]
  },
  {
   "cell_type": "markdown",
   "metadata": {
    "id": "056021f3-1ac3-44a5-ab8b-7c40303f6d69"
   },
   "source": [
    "<a id=\"generate\"></a>\n",
    "# Step 5: Generate output using the foundation models Python library\n",
    "\n",
    "You can prompt foundation models in watsonx.ai programmatically using the Python library.\n",
    "\n",
    "See:\n",
    "- <a href=\"https://dataplatform.cloud.ibm.com/docs/content/wsj/analyze-data/fm-python-lib.html?context=wx&audience=wdp\" target=\"_blank\" rel=\"noopener no referrer\">Introduction to the foundation models Python library</a>\n",
    "- <a href=\"https://ibm.github.io/watson-machine-learning-sdk/foundation_models.html\" target=\"_blank\" rel=\"noopener no referrer\">Foundation models Python library reference</a>\n"
   ]
  },
  {
   "cell_type": "code",
   "execution_count": 33,
   "metadata": {},
   "outputs": [],
   "source": [
    "import os\n",
    "from ibm_watson_machine_learning.foundation_models import Model\n",
    "\n",
    "model_id = \"google/flan-t5-xxl\"\n",
    "\n",
    "gen_parms = { \n",
    "    \"DECODING_METHOD\" : \"greedy\", \n",
    "    \"MIN_NEW_TOKENS\" : 1, \n",
    "    \"MAX_NEW_TOKENS\" : 50 \n",
    "}\n",
    "\n",
    "\n",
    "\n",
    "model = Model( model_id, credentials, gen_parms, project_id )"
   ]
  },
  {
   "cell_type": "code",
   "execution_count": 34,
   "metadata": {
    "id": "a5a69476-81e2-4cb5-9649-c57713c48f85"
   },
   "outputs": [],
   "source": [
    "import json\n",
    "\n",
    "def generate( model_in, augmented_prompt_in ):\n",
    "    \n",
    "    generated_response = model_in.generate( augmented_prompt_in )\n",
    "\n",
    "    if ( \"results\" in generated_response ) \\\n",
    "       and ( len( generated_response[\"results\"] ) > 0 ) \\\n",
    "       and ( \"generated_text\" in generated_response[\"results\"][0] ):\n",
    "        return generated_response[\"results\"][0][\"generated_text\"]\n",
    "    else:\n",
    "        print( \"The model failed to generate an answer\" )\n",
    "        print( \"\\nDebug info:\\n\" + json.dumps( generated_response, indent=3 ) )\n",
    "        return \"\""
   ]
  },
  {
   "cell_type": "code",
   "execution_count": 35,
   "metadata": {
    "id": "54f812b3-0569-48de-b623-73a95f65f0c5"
   },
   "outputs": [
    {
     "name": "stdout",
     "output_type": "stream",
     "text": [
      "more than 5 feet tall\n"
     ]
    }
   ],
   "source": [
    "output = generate( model, augmented_prompt )\n",
    "print( output )"
   ]
  },
  {
   "cell_type": "markdown",
   "metadata": {
    "id": "a53b88fb-0300-409f-bba7-10d06b44d130"
   },
   "source": [
    "<a id=\"rag\"></a>\n",
    "# Step 6: Pull everything together to perform retrieval-augmented generation"
   ]
  },
  {
   "cell_type": "code",
   "execution_count": 36,
   "metadata": {
    "id": "517af9ed-07a2-4d5e-bdb0-73fa41190ad5"
   },
   "outputs": [],
   "source": [
    "def searchAndAnswer( knowledge_base_in, model ):\n",
    "    \n",
    "    question = input( \"Type your question:\\n\")\n",
    "    if not re.match( r\"\\S+\", question ):\n",
    "        print( \"No question\")\n",
    "        return\n",
    "        \n",
    "    # Retrieve the relevant content\n",
    "    top_matching_index = search( question, knowledge_base_in )\n",
    "    if top_matching_index < 0:\n",
    "        print( \"No good answer was found in the knowledge base\" )\n",
    "        return;\n",
    "    asset = knowledge_base_in[top_matching_index]\n",
    "    asset_txt = asset[\"txt\"]\n",
    "    \n",
    "    # Augment a prompt with context\n",
    "    augmented_prompt = augment( prompt_template, asset_txt, question )\n",
    "    \n",
    "    # Generate output\n",
    "    output = generate( model, augmented_prompt )\n",
    "    if not re.match( r\"\\S+\", output ):\n",
    "        print( \"The model failed to generate an answer\")\n",
    "    print( \"\\nAnswer:\\n\" + output )\n",
    "    print( \"\\nSource: \\\"\" + asset[\"title\"] + \"\\\", \" + asset[\"Author\"] + \" (\" + asset[\"Published\"] + \")\"  )"
   ]
  },
  {
   "cell_type": "markdown",
   "metadata": {
    "id": "401ab57b-63cc-4e1c-9abb-db3784368fdc"
   },
   "source": [
    "Test the solution by running the following cell multiple times.  \n",
    "\n",
    "\\*You will be prompted to enter a question each time."
   ]
  },
  {
   "cell_type": "code",
   "execution_count": 37,
   "metadata": {
    "id": "aba92a00-12b3-42c5-8203-0306dd60c6a5"
   },
   "outputs": [
    {
     "name": "stdin",
     "output_type": "stream",
     "text": [
      "Type your question:\n",
      " Why Cucumbers are fun to grow?\n"
     ]
    },
    {
     "name": "stdout",
     "output_type": "stream",
     "text": [
      "\n",
      "Answer:\n",
      "Cucumbers are fun to grow for beginning gardeners and advanced gardeners alike.\n",
      "\n",
      "Source: \"Cucumbers for beginners\", B. Melnyk (2018)\n"
     ]
    }
   ],
   "source": [
    "searchAndAnswer( knowledge_base, model )"
   ]
  },
  {
   "cell_type": "markdown",
   "metadata": {
    "id": "10550c6b-7d0f-4280-b99f-79639fb49193"
   },
   "source": [
    "<a id=\"summary\"></a>\n",
    "# Summary and next steps\n",
    "\n",
    "You successfully completed this notebook!.\n",
    " \n",
    "You learned how to apply the general retrieval-augmented generation pattern with a simple search component and a small knowledge base using watonx.ai.\n",
    " \n",
    "Check out our <a href=\"https://dataplatform.cloud.ibm.com/docs/content/wsj/getting-started/welcome-main.html?context=wx&audience=wdp\" target=\"_blank\" rel=\"noopener no referrer\">Documentation</a> for more samples, tutorials, documentation, and how-tos. "
   ]
  },
  {
   "cell_type": "markdown",
   "metadata": {},
   "source": [
    "<a id=\"cpd-only\"></a>\n",
    "# Other versions of this notebook\n",
    "\n",
    "If you are using an on-premises version of IBM watsonx.ai, then use one of the following notebooks:\n",
    "- <a href=\"https://github.com/IBMDataScience/sample-notebooks/blob/master/CloudPakForData/notebooks/4.8/Introduction-to-retrieval-augmented-generation.ipynb\" target=\"_blank\" rel=\"noopener no referrer\">watsonx.ai version 1.0 on-premises\n",
    "- <a href=\"https://github.com/IBMDataScience/sample-notebooks/blob/master/CloudPakForData/notebooks/5.0/Introduction-to-retrieval-augmented-generation.ipynb\" target=\"_blank\" rel=\"noopener no referrer\">watsonx.ai version 2.0 on-premises\n"
   ]
  },
  {
   "cell_type": "markdown",
   "metadata": {
    "id": "1cbc4f38-36d4-46ea-9a69-e85a84f7471d"
   },
   "source": [
    "### Authors\n",
    "\n",
    "**Sarah Packowski**, AI ContentOps - IBM Data and AI."
   ]
  },
  {
   "cell_type": "markdown",
   "metadata": {
    "id": "a4af45c7-09ae-4846-b739-f0fae2d1d774"
   },
   "source": [
    "Copyright © 2023-2024 IBM. This notebook and its source code are released under the terms of the MIT License."
   ]
  }
 ],
 "metadata": {
  "kernelspec": {
   "display_name": "Python 3 (ipykernel)",
   "language": "python",
   "name": "python3"
  },
  "language_info": {
   "codemirror_mode": {
    "name": "ipython",
    "version": 3
   },
   "file_extension": ".py",
   "mimetype": "text/x-python",
   "name": "python",
   "nbconvert_exporter": "python",
   "pygments_lexer": "ipython3",
   "version": "3.10.12"
  }
 },
 "nbformat": 4,
 "nbformat_minor": 4
}
